{
  "cells": [
    {
      "cell_type": "code",
      "execution_count": null,
      "metadata": {
        "colab": {
          "base_uri": "https://localhost:8080/"
        },
        "id": "uXGX__NqKn1c",
        "outputId": "0d831623-08a9-4c6f-be23-2fc1e0508de9"
      },
      "outputs": [
        {
          "name": "stdout",
          "output_type": "stream",
          "text": [
            "Collecting mysql-connector-python\n",
            "  Downloading mysql_connector_python-9.3.0-cp311-cp311-manylinux_2_28_x86_64.whl.metadata (7.2 kB)\n",
            "Downloading mysql_connector_python-9.3.0-cp311-cp311-manylinux_2_28_x86_64.whl (33.9 MB)\n",
            "\u001b[2K   \u001b[90m━━━━━━━━━━━━━━━━━━━━━━━━━━━━━━━━━━━━━━━━\u001b[0m \u001b[32m33.9/33.9 MB\u001b[0m \u001b[31m37.5 MB/s\u001b[0m eta \u001b[36m0:00:00\u001b[0m\n",
            "\u001b[?25hInstalling collected packages: mysql-connector-python\n",
            "Successfully installed mysql-connector-python-9.3.0\n"
          ]
        }
      ],
      "source": [
        "!pip install mysql-connector-python"
      ]
    },
    {
      "cell_type": "code",
      "execution_count": null,
      "metadata": {
        "id": "ZuBejPXAKur2"
      },
      "outputs": [],
      "source": [
        "import mysql.connector"
      ]
    },
    {
      "cell_type": "code",
      "execution_count": null,
      "metadata": {
        "id": "TZZ3HZiyKxUg"
      },
      "outputs": [],
      "source": [
        "mydb = mysql.connector.connect(\n",
        "  host=\"database-2.crqqsumuy6iy.ap-south-1.rds.amazonaws.com\",\n",
        "  user=\"admin\",\n",
        "  password=\"ArchanaRuban\",\n",
        "  port=3306\n",
        ")"
      ]
    },
    {
      "cell_type": "code",
      "execution_count": null,
      "metadata": {
        "colab": {
          "base_uri": "https://localhost:8080/"
        },
        "id": "7jbQf5DjK_wk",
        "outputId": "98cf6948-015a-4477-dd1f-8d8ea255d784"
      },
      "outputs": [
        {
          "name": "stdout",
          "output_type": "stream",
          "text": [
            "<mysql.connector.connection.MySQLConnection object at 0x7b2fa5987150>\n",
            "('information_schema',)\n",
            "('mysql',)\n",
            "('performance_schema',)\n",
            "('sys',)\n",
            "('user_logs',)\n"
          ]
        }
      ],
      "source": [
        "print(mydb)\n",
        "mycursor = mydb.cursor(buffered=True)\n",
        "mycursor.execute(\"Show databases\")\n",
        "for x in mycursor:\n",
        "  print(x)"
      ]
    },
    {
      "cell_type": "code",
      "execution_count": null,
      "metadata": {
        "id": "EUIvoRxVLApn"
      },
      "outputs": [],
      "source": [
        "mycursor.execute(\"CREATE DATABASE IF NOT EXISTS user_logs\")"
      ]
    },
    {
      "cell_type": "code",
      "execution_count": null,
      "metadata": {
        "id": "b7zjnfZhLEA7"
      },
      "outputs": [],
      "source": [
        "mycursor.execute(\"USE user_logs\")"
      ]
    },
    {
      "cell_type": "code",
      "execution_count": null,
      "metadata": {
        "id": "1Zmzw6tCLGq6"
      },
      "outputs": [],
      "source": [
        "mycursor.execute(\"\"\"CREATE TABLE IF NOT EXISTS APP_USER_LOGS(Id INT AUTO_INCREMENT PRIMARY KEY,\n",
        "                  Text TEXT NOT NULL,\n",
        "                  Predicted_Class INT NOT NULL,\n",
        "                  Negative FLOAT NOT NULL,\n",
        "                  Neutral FLOAT NOT NULL,\n",
        "                  Positive FLOAT NOT NULL,\n",
        "                  Timestamp TIMESTAMP DEFAULT CURRENT_TIMESTAMP)\"\"\")"
      ]
    },
    {
      "cell_type": "code",
      "execution_count": null,
      "metadata": {
        "colab": {
          "base_uri": "https://localhost:8080/"
        },
        "id": "g6d6WlQHLJDa",
        "outputId": "e6f7efcc-dbd6-44fa-f435-0d8b67b5a9d4"
      },
      "outputs": [
        {
          "name": "stdout",
          "output_type": "stream",
          "text": [
            "+------+--------+-------------------+------------+-----------+------------+-------------+--------------+\n",
            "| Id   | Text   | Predicted_Class   | Negative   | Neutral   | Positive   | Timestamp   | ip_address   |\n",
            "|------+--------+-------------------+------------+-----------+------------+-------------+--------------|\n",
            "+------+--------+-------------------+------------+-----------+------------+-------------+--------------+\n"
          ]
        }
      ],
      "source": [
        "mycursor.execute(\"select * FROM APP_USER_LOGS\")\n",
        "out = mycursor.fetchall()\n",
        "from tabulate import tabulate\n",
        "print(tabulate(out,headers = [i[0] for i in mycursor.description], tablefmt = 'psql'))"
      ]
    }
  ],
  "metadata": {
    "colab": {
      "provenance": []
    },
    "kernelspec": {
      "display_name": "Python 3",
      "name": "python3"
    },
    "language_info": {
      "name": "python"
    }
  },
  "nbformat": 4,
  "nbformat_minor": 0
}
